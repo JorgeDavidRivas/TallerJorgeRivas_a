{
 "cells": [
  {
   "cell_type": "code",
   "execution_count": null,
   "metadata": {},
   "outputs": [
    {
     "name": "stdout",
     "output_type": "stream",
     "text": [
      "5\n"
     ]
    }
   ],
   "source": [
    "def sumar(a, b):\n",
    "    return a + b\n",
    "print(sumar(2, 3))"
   ]
  },
  {
   "cell_type": "code",
   "execution_count": null,
   "metadata": {},
   "outputs": [],
   "source": [
    "from matematicas import sumar, restar, division, producto\n",
    "from algebra import distancia\n",
    "\n",
    "print(sumar(2,3))\n",
    "print(restar(4, 2))\n",
    "print(division(8, 4))\n",
    "print(producto(4,3))\n",
    "print(distancia(1, 2, 3, 4))"
   ]
  }
 ],
 "metadata": {
  "kernelspec": {
   "display_name": "Python 3 (ipykernel)",
   "language": "python",
   "name": "python3"
  },
  "orig_nbformat": 4
 },
 "nbformat": 4,
 "nbformat_minor": 2
}
